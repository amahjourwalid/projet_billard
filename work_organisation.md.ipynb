{
 "cells": [
  {
   "cell_type": "markdown",
   "metadata": {},
   "source": [
    "# work_organization.md\n",
    "##  work plan\n",
    "### square case :\n",
    "1: Creating a simulation of a pool containing just one ball, the purppose is to make a videos showing  it's trajectory, for that we will proceede whith two deffrent methods, first one using\" matplotlib\" , and the second using \"TKinter \". \n",
    "2: Making of a code that will count the times that the ball hit the counters and save it in a string \"h\" for horizantal and \"v\" for vertical\n",
    "3: Making a statistical analysis for diffrent set of the string \n",
    "\n",
    "\n",
    "### Flat Torus case : \n",
    " make the Same thnigs that we did in the square case but instead of choosing a square pool we will be working with a \"Flat Torus \" \n",
    "  https://en.wikipedia.org/wiki/Torus#Flat_torus, if needed.\n",
    "\n",
    "\n",
    "\n",
    "### Elliptic case: \n",
    "making a animated video as the video in the link \n",
    " https://www.youtube.com/watch?v=A7mPzrNJHkA&list=PLTgIq68k2wHH31X-pkBDu2QVeA85G8OHV&index=2&t=0s\n",
    " \n",
    "## tasks repartition \n",
    "\n",
    "\n"
   ]
  }
 ],
 "metadata": {
  "kernelspec": {
   "display_name": "Python 3",
   "language": "python",
   "name": "python3"
  },
  "language_info": {
   "codemirror_mode": {
    "name": "ipython",
    "version": 3
   },
   "file_extension": ".py",
   "mimetype": "text/x-python",
   "name": "python",
   "nbconvert_exporter": "python",
   "pygments_lexer": "ipython3",
   "version": "3.7.4"
  }
 },
 "nbformat": 4,
 "nbformat_minor": 2
}
